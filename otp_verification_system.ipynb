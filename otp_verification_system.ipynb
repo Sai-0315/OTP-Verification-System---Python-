{
 "cells": [
  {
   "cell_type": "code",
   "execution_count": 2,
   "id": "6560a9b0-e1da-4989-835c-f214ff007a6c",
   "metadata": {},
   "outputs": [
    {
     "name": "stdin",
     "output_type": "stream",
     "text": [
      "Enter your email:  heyyybuddy69@gmail.com\n"
     ]
    },
    {
     "name": "stdout",
     "output_type": "stream",
     "text": [
      "📩 OTP sent successfully to your email!\n"
     ]
    },
    {
     "name": "stdin",
     "output_type": "stream",
     "text": [
      "Enter the OTP received in your email:  232\n"
     ]
    },
    {
     "name": "stdout",
     "output_type": "stream",
     "text": [
      "❌ Incorrect OTP. You have 2 attempts left. Try Again!\n"
     ]
    },
    {
     "name": "stdin",
     "output_type": "stream",
     "text": [
      "Enter the OTP received in your email:  817976\n"
     ]
    },
    {
     "name": "stdout",
     "output_type": "stream",
     "text": [
      "✅ OTP Verification Successful!\n",
      "🎉 Access granted!\n"
     ]
    }
   ],
   "source": [
    "import random  # Import random module to generate OTP\n",
    "import smtplib  # Import smtplib module to send emails\n",
    "import os  # Import os module to access environment variables\n",
    "import re  # Import re module for email validation\n",
    "from email.message import EmailMessage  # Import EmailMessage to structure email content\n",
    "from dotenv import load_dotenv  # Import dotenv to load environment variables from .env file\n",
    "\n",
    "# Load environment variables from .env file\n",
    "load_dotenv()\n",
    "\n",
    "# Email Configuration - Fetch email credentials securely from environment variables\n",
    "EMAIL_SENDER = os.getenv(\"EMAIL_SENDER\")  # Your email ID\n",
    "EMAIL_PASSWORD = os.getenv(\"EMAIL_PASSWORD\")  # Your email password\n",
    "SMTP_SERVER = \"smtp.gmail.com\"  # Gmail SMTP server\n",
    "SMTP_PORT = 587  # SMTP port for sending emails\n",
    "\n",
    "\n",
    "def generate_otp():\n",
    "    \"\"\"Generate a random 6-digit OTP\"\"\"\n",
    "    return random.randint(100000, 999999)  # Generates a random number between 100000 and 999999\n",
    "\n",
    "\n",
    "def send_otp_email(receiver_email, otp):\n",
    "    \"\"\"Send OTP to the user's email\"\"\"\n",
    "    msg = EmailMessage()  # Create an email message object\n",
    "    msg.set_content(f\"Your OTP for verification is: {otp}\")  # Set the email body\n",
    "\n",
    "    msg[\"Subject\"] = \"Your OTP Code\"  # Email subject\n",
    "    msg[\"From\"] = EMAIL_SENDER  # Sender's email\n",
    "    msg[\"To\"] = receiver_email  # Recipient's email\n",
    "\n",
    "    try:\n",
    "        # Connect to the Gmail SMTP server\n",
    "        with smtplib.SMTP(SMTP_SERVER, SMTP_PORT) as server:\n",
    "            server.starttls()  # Secure the connection\n",
    "            server.login(EMAIL_SENDER, EMAIL_PASSWORD)  # Login to the email account\n",
    "            server.send_message(msg)  # Send the email with OTP\n",
    "        print(\"📩 OTP sent successfully to your email!\")  # Print confirmation message\n",
    "    except Exception as e:\n",
    "        print(\"❌ Error sending OTP:\", e)  # Print error message if email fails to send\n",
    "        exit()  # Stop execution if there is an error\n",
    "\n",
    "\n",
    "def verify_otp(otp):\n",
    "    \"\"\"Prompt user to enter OTP and verify it\"\"\"\n",
    "    for attempts in range(3):  # Allow up to 3 attempts\n",
    "        try:\n",
    "            enter_otp = int(input(\"Enter the OTP received in your email: \"))  # Get user input\n",
    "        except ValueError:\n",
    "            print(\"⚠ Invalid input! Please enter numbers only.\")  # Handle non-numeric input\n",
    "            continue  # Skip this iteration and ask for OTP again\n",
    "\n",
    "        if otp == enter_otp:  # Check if entered OTP matches the generated OTP\n",
    "            print(\"✅ OTP Verification Successful!\")\n",
    "            return True  # OTP verified successfully\n",
    "        else:\n",
    "            if attempts < 2:  # If it's not the last attempt\n",
    "                print(f\"❌ Incorrect OTP. You have {2 - attempts} attempts left. Try Again!\")\n",
    "            else:\n",
    "                print(\"❌ OTP verification failed. Please request a new OTP.\")\n",
    "\n",
    "    return False  # Return failure after 3 incorrect attempts\n",
    "\n",
    "\n",
    "# ✅ Email Validation Function\n",
    "def is_valid_email(email):\n",
    "    \"\"\"Check if the email format is valid\"\"\"\n",
    "    pattern = r\"^[a-zA-Z0-9_.]+@[a-zA-Z0-9]+\\.[a-zA-Z]{2,3}$\"  # Regular expression pattern for email validation\n",
    "    return re.match(pattern, email) is not None  # Returns True if email format is valid\n",
    "\n",
    "\n",
    "# ✅ Main Flow\n",
    "email = input(\"Enter your email: \").strip()  # Get user email input and remove any spaces\n",
    "\n",
    "if not email:  # Check if email is empty\n",
    "    print(\"❌ Email cannot be empty!\")\n",
    "    exit()  # Stop execution if the email is empty\n",
    "\n",
    "if not is_valid_email(email):  # Validate the email format\n",
    "    print(\"❌ Invalid email format! Please enter a valid email.\")\n",
    "    exit()  # Stop execution if the email is invalid\n",
    "else:\n",
    "    receiver_email = email  # Assign `receiver_email` before using it\n",
    "    \n",
    "    otp = generate_otp()  # Generate OTP\n",
    "    send_otp_email(receiver_email, otp)  # Send OTP to email\n",
    "\n",
    "    if verify_otp(otp):  # Verify OTP entered by the user\n",
    "        print(\"🎉 Access granted!\")  # Print success message\n",
    "    else:\n",
    "        print(\"🚫 Access denied.\")  # Print failure message\n"
   ]
  },
  {
   "cell_type": "code",
   "execution_count": null,
   "id": "137d7f8d-96d9-4fb2-a4a6-0726e0b28744",
   "metadata": {},
   "outputs": [],
   "source": []
  }
 ],
 "metadata": {
  "kernelspec": {
   "display_name": "Python 3 (ipykernel)",
   "language": "python",
   "name": "python3"
  },
  "language_info": {
   "codemirror_mode": {
    "name": "ipython",
    "version": 3
   },
   "file_extension": ".py",
   "mimetype": "text/x-python",
   "name": "python",
   "nbconvert_exporter": "python",
   "pygments_lexer": "ipython3",
   "version": "3.11.7"
  }
 },
 "nbformat": 4,
 "nbformat_minor": 5
}
